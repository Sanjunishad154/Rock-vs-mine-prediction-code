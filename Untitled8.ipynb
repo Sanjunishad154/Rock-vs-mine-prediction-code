{
  "nbformat": 4,
  "nbformat_minor": 0,
  "metadata": {
    "colab": {
      "provenance": [],
      "authorship_tag": "ABX9TyPowRda36KdG3sFPXiag7Vs",
      "include_colab_link": true
    },
    "kernelspec": {
      "name": "python3",
      "display_name": "Python 3"
    },
    "language_info": {
      "name": "python"
    }
  },
  "cells": [
    {
      "cell_type": "markdown",
      "metadata": {
        "id": "view-in-github",
        "colab_type": "text"
      },
      "source": [
        "<a href=\"https://colab.research.google.com/github/Sanjunishad154/Rock-vs-mine-prediction-code/blob/main/Untitled8.ipynb\" target=\"_parent\"><img src=\"https://colab.research.google.com/assets/colab-badge.svg\" alt=\"Open In Colab\"/></a>"
      ]
    },
    {
      "cell_type": "markdown",
      "source": [],
      "metadata": {
        "id": "rp3iry_MDhto"
      }
    },
    {
      "cell_type": "code",
      "source": [
        "import pandas as pd\n",
        "from sklearn.model_selection import train_test_split\n",
        "from sklearn.linear_model import LogisticRegression\n",
        "from sklearn.preprocessing import LabelEncoder\n",
        "from sklearn.metrics import accuracy_score, classification_report\n",
        "\n",
        "#  Load dataset\n",
        "url = \"https://archive.ics.uci.edu/ml/machine-learning-databases/undocumented/connectionist-bench/sonar/sonar.all-data\"\n",
        "df = pd.read_csv(url, header=None)\n",
        "\n",
        "#  Split into features and labels\n",
        "X = df.iloc[:, :-1]\n",
        "y = df.iloc[:, -1]\n",
        "\n",
        "#  Encode labels (R=0, M=1)\n",
        "label_encoder = LabelEncoder()\n",
        "y_encoded = label_encoder.fit_transform(y)\n",
        "\n",
        "# Train-test split\n",
        "X_train, X_test, y_train, y_test = train_test_split(X, y_encoded, test_size=0.2, random_state=42)\n",
        "\n",
        "# Train model\n",
        "model = LogisticRegression(max_iter=1000)\n",
        "model.fit(X_train, y_train)\n",
        "\n",
        "#  Predict\n",
        "y_pred = model.predict(X_test)\n",
        "\n",
        "#  Evaluation\n",
        "print(\"Accuracy:\", accuracy_score(y_test, y_pred))\n",
        "print(\"\\nClassification Report:\\n\", classification_report(y_test, y_pred, target_names=[\"Rock\", \"Mine\"]))\n",
        "\n",
        "#  Example prediction\n",
        "sample = X_test.iloc[0].values.reshape(1, -1)\n",
        "prediction = model.predict(sample)\n",
        "label = label_encoder.inverse_transform(prediction)\n",
        "print(\"\\nPrediction for first test sample:\", label[0])\n"
      ],
      "metadata": {
        "colab": {
          "base_uri": "https://localhost:8080/"
        },
        "id": "6hY4VtyyDh-h",
        "outputId": "a8c6c329-07f6-4e95-84ed-727a75df5642"
      },
      "execution_count": 1,
      "outputs": [
        {
          "output_type": "stream",
          "name": "stdout",
          "text": [
            "Accuracy: 0.7857142857142857\n",
            "\n",
            "Classification Report:\n",
            "               precision    recall  f1-score   support\n",
            "\n",
            "        Rock       0.90      0.73      0.81        26\n",
            "        Mine       0.67      0.88      0.76        16\n",
            "\n",
            "    accuracy                           0.79        42\n",
            "   macro avg       0.79      0.80      0.78        42\n",
            "weighted avg       0.81      0.79      0.79        42\n",
            "\n",
            "\n",
            "Prediction for first test sample: M\n"
          ]
        }
      ]
    },
    {
      "cell_type": "code",
      "source": [],
      "metadata": {
        "id": "dWZ6TnuRE6Wy"
      },
      "execution_count": null,
      "outputs": []
    }
  ]
}